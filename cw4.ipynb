{
 "cells": [
  {
   "cell_type": "code",
   "execution_count": null,
   "id": "d53075de-64db-440b-950b-c944146977cd",
   "metadata": {},
   "outputs": [],
   "source": [
    "import numpy as np\n",
    "from keras import Sequential\n",
    "from keras._tf_keras.keras.layers import Dense\n",
    "import pandas as pd\n",
    "from sklearn.model_selection import train_test_split\n",
    "from sklearn.metrics import confusion_matrix\n",
    "from sklearn.preprocessing import OneHotEncoder, LabelEncoder\n",
    "\n",
    "file = pd.read_csv('wynik.csv', sep=',')\n",
    "data = file.to_numpy() #zamiana na tablicę numpy\n",
    "\n",
    "X = data[:,:-1].astype('float') #wyodrębnienie wektorów cech do macierzy X\n",
    "y = data[:,-1]                  #wyodrębnienie etykiety kategorii do osobnej kolumny (wektora Y)\n",
    "\n",
    "label_encoder = LabelEncoder() #obiekt, zamieniający etykiety nominalne na intigery\n",
    "integer_encoded = label_encoder.fit_transform(y)\n",
    "#binarne enkodowanie\n",
    "onehot_encoder = OneHotEncoder(sparse_output= False) #wykonanie kodowania 1 z n dla wektora\n",
    "integer_encoded = integer_encoded.reshape(len(integer_encoded), 1)\n",
    "onehot_encoded = onehot_encoder.fit_transform(integer_encoded) #tutaj jest już kategoria, klasa, a nie słowa i jest zakodowana binarnie\n",
    "\n",
    "X_train, X_test, y_train, y_test = train_test_split(X, onehot_encoded, test_size=0.3) #ustawienie części testowej na 30% (dlatego test_size=0.3), reszta idzie do treningu\n",
    "\n",
    "#Tworzenie modelu sieci neuronowej\n",
    "#Można dzięki bibliotece keras stworzyć modele sieci za pomocą dwóch ścieżek: sekwencyjna albo funkcjonalna, w tym zadaniu wykorzystano sekwencyjną\n",
    "model = Sequential() #utworzenie obiektu sieci typu Sequential\n",
    "model.add(Dense(10, input_dim=72, activation='sigmoid')) #stworzenie i ustawienie pierwszej warstwy (liczby perceptronów na 10, funkcja aktywacji sigmoid i wymiar wyjściowy na 72)\n",
    "model.add(Dense(3, activation='softmax')) #stworzenie i ustawienie drugiej warstwy\n",
    "model.compile(loss = 'categorical_crossentropy', optimizer = 'sgd', metrics = ['accuracy']) #kompilacja i zbudowanie modelu z funkcją categorical_crossentropy i algorytmem optymalizacji sgd (stochastic gradient descent)\n",
    "model.summary() #wypisze podsumowanie sieci na ekran\n",
    "model.fit(X_train, y_train, epochs = 100, batch_size = 10, shuffle = True) #X_train i y_train to zbiór treningowy, epochs to liczba iteracji, ile razy przejść przez zbiór danych, shuffle - powoduje wymieszanie wektorów danych, co jest bardzo ważne, bo tak to sieć nie będzie się uczyła jednej klasy (tekstury np gres)\n",
    "\n",
    "#Tu jest przejście z reprezentacji binarnej (onehot_encoder) na intigera\n",
    "y_pred = model.predict(X_test)\n",
    "y_pred_int = np.argmax(y_pred, axis=1)\n",
    "y_test_int = np.argmax(y_test, axis=1)\n",
    "cm = confusion_matrix(y_test_int, y_pred_int)\n",
    "print(cm)\n",
    "\n",
    "\n",
    "\n"
   ]
  }
 ],
 "metadata": {
  "kernelspec": {
   "display_name": "Python 3 (ipykernel)",
   "language": "python",
   "name": "python3"
  },
  "language_info": {
   "codemirror_mode": {
    "name": "ipython",
    "version": 3
   },
   "file_extension": ".py",
   "mimetype": "text/x-python",
   "name": "python",
   "nbconvert_exporter": "python",
   "pygments_lexer": "ipython3",
   "version": "3.11.7"
  }
 },
 "nbformat": 4,
 "nbformat_minor": 5
}
